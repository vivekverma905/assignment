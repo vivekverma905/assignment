{
  "metadata": {
    "language_info": {
      "codemirror_mode": {
        "name": "python",
        "version": 3
      },
      "file_extension": ".py",
      "mimetype": "text/x-python",
      "name": "python",
      "nbconvert_exporter": "python",
      "pygments_lexer": "ipython3",
      "version": "3.8"
    },
    "kernelspec": {
      "name": "python",
      "display_name": "Python (Pyodide)",
      "language": "python"
    }
  },
  "nbformat_minor": 4,
  "nbformat": 4,
  "cells": [
    {
      "cell_type": "markdown",
      "source": "Question 1",
      "metadata": {}
    },
    {
      "cell_type": "markdown",
      "source": "open() function is used to open a file",
      "metadata": {}
    },
    {
      "cell_type": "markdown",
      "source": "1. read mode\n2. write mode\n3. append mode\n4. binary mode\n5. text mode",
      "metadata": {}
    },
    {
      "cell_type": "markdown",
      "source": "1. read mode is used to read the file .\n2. write mode is used to write the file .\n3. append mode is used to append or add one file to another\n4. binary mode is used to create the binary file\n5. text mode is used to create a text file",
      "metadata": {}
    },
    {
      "cell_type": "markdown",
      "source": "Question 2",
      "metadata": {}
    },
    {
      "cell_type": "markdown",
      "source": "close function is used to close the perticular file which was being opened . closing a file is very important because without closing a file if we try to open a file then the both the file will be written in the file which was not closed",
      "metadata": {}
    },
    {
      "cell_type": "markdown",
      "source": "Question 3",
      "metadata": {}
    },
    {
      "cell_type": "code",
      "source": "import csv",
      "metadata": {
        "trusted": true
      },
      "execution_count": 1,
      "outputs": []
    },
    {
      "cell_type": "code",
      "source": "\nwith open(\"text.txt\", \"w\") as file:\n    file.write(\"I want to become a Data Scientist\")\n    \n",
      "metadata": {
        "trusted": true
      },
      "execution_count": 7,
      "outputs": []
    },
    {
      "cell_type": "code",
      "source": "file.close()",
      "metadata": {
        "trusted": true
      },
      "execution_count": 8,
      "outputs": []
    },
    {
      "cell_type": "code",
      "source": "with open(\"text.txt\", \"r\") as file:\n    contents = file.read()\n    \n    for i in contents :\n        print(i)\n    ",
      "metadata": {
        "trusted": true
      },
      "execution_count": 10,
      "outputs": [
        {
          "name": "stdout",
          "text": "I\n \nw\na\nn\nt\n \nt\no\n \nb\ne\nc\no\nm\ne\n \na\n \nD\na\nt\na\n \nS\nc\ni\ne\nn\nt\ni\ns\nt\n",
          "output_type": "stream"
        }
      ]
    },
    {
      "cell_type": "markdown",
      "source": "Question 4",
      "metadata": {}
    },
    {
      "cell_type": "markdown",
      "source": "1. read() it read entire file in a single string\n\n2. readline() it read the single line of the file\n\n3. readlines() it  reads the entire file and returns a list of strings where each string represents a line of the file.",
      "metadata": {}
    },
    {
      "cell_type": "markdown",
      "source": "Question 5",
      "metadata": {}
    },
    {
      "cell_type": "markdown",
      "source": " with statement is used to open the file .\n the main advantage of with statement is that after opening the file we don't have to close the file .\n ",
      "metadata": {}
    },
    {
      "cell_type": "markdown",
      "source": "Question 6",
      "metadata": {}
    },
    {
      "cell_type": "markdown",
      "source": "write() this function write the string to a file\nwritelines() this function write the list os string to a file",
      "metadata": {}
    },
    {
      "cell_type": "code",
      "source": "#w\nwith open(\"text1.txt\", \"w\") as file:\n    file.write(\"I want to become a Data Scientist\")\n",
      "metadata": {},
      "execution_count": null,
      "outputs": []
    }
  ]
}