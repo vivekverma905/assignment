{
 "cells": [
  {
   "cell_type": "markdown",
   "id": "78c144a4-42dc-42e1-baed-71d7643fa5cd",
   "metadata": {},
   "source": [
    "Question 1\n"
   ]
  },
  {
   "cell_type": "code",
   "execution_count": 18,
   "id": "518f5ed4-bcd1-4651-9359-fce3f25e03cb",
   "metadata": {},
   "outputs": [],
   "source": [
    "''' solution 1 \n",
    "            def keyword is used to create a funmction '''\n",
    "\n",
    "def all():\n",
    "    return [a for a in range (1 ,  26 ) if a % 2 != 0]"
   ]
  },
  {
   "cell_type": "code",
   "execution_count": 19,
   "id": "1e61b5ee-8fc6-4055-a5c1-58a77635cdc1",
   "metadata": {},
   "outputs": [
    {
     "data": {
      "text/plain": [
       "[1, 3, 5, 7, 9, 11, 13, 15, 17, 19, 21, 23, 25]"
      ]
     },
     "execution_count": 19,
     "metadata": {},
     "output_type": "execute_result"
    }
   ],
   "source": [
    "all()"
   ]
  },
  {
   "cell_type": "markdown",
   "id": "210fb616-57ca-42ca-938c-baf09fd6e87c",
   "metadata": {},
   "source": [
    "Question 2\n"
   ]
  },
  {
   "cell_type": "markdown",
   "id": "1fb2b93a-3b43-4359-9741-80c5eb5b1050",
   "metadata": {},
   "source": [
    "solution 2  \n",
    "            *args is used to provide a single  list while **kwargs is used to take is used to pass key value "
   ]
  },
  {
   "cell_type": "code",
   "execution_count": 20,
   "id": "069ebdf1-815f-4a27-9fe6-3441bc6ce2a0",
   "metadata": {},
   "outputs": [],
   "source": [
    "def test1(*args):\n",
    "    return args"
   ]
  },
  {
   "cell_type": "code",
   "execution_count": 21,
   "id": "bb837e68-9856-4759-9d90-ed364da510f0",
   "metadata": {},
   "outputs": [
    {
     "data": {
      "text/plain": [
       "(1, 2, 3, 4, 5)"
      ]
     },
     "execution_count": 21,
     "metadata": {},
     "output_type": "execute_result"
    }
   ],
   "source": [
    "test1(1,2,3,4,5)"
   ]
  },
  {
   "cell_type": "code",
   "execution_count": 22,
   "id": "105e6472-3558-4210-9e86-fdef109d5e28",
   "metadata": {},
   "outputs": [],
   "source": [
    "def test2(**kwargs):\n",
    "    return kwargs"
   ]
  },
  {
   "cell_type": "code",
   "execution_count": 25,
   "id": "b23f0518-8c62-4ea0-b18e-4b9270891e3b",
   "metadata": {},
   "outputs": [
    {
     "data": {
      "text/plain": [
       "{'a': 5, 'b': 6}"
      ]
     },
     "execution_count": 25,
     "metadata": {},
     "output_type": "execute_result"
    }
   ],
   "source": [
    "test2(a=5,b=6 )"
   ]
  },
  {
   "cell_type": "markdown",
   "id": "39526f6f-3ab2-46d1-8e45-31664cf1c6dd",
   "metadata": {},
   "source": [
    "Question 3"
   ]
  },
  {
   "cell_type": "code",
   "execution_count": 28,
   "id": "6f368425-a7f1-4fda-a870-3cfee2874b50",
   "metadata": {},
   "outputs": [],
   "source": [
    " l = [2,4,6,8,10,12,14,16,18,20]"
   ]
  },
  {
   "cell_type": "code",
   "execution_count": 29,
   "id": "456ab200-f791-4025-9fcd-896152d5c38f",
   "metadata": {},
   "outputs": [
    {
     "data": {
      "text/plain": [
       "[2, 4, 6, 8, 10, 12, 14, 16, 18, 20]"
      ]
     },
     "execution_count": 29,
     "metadata": {},
     "output_type": "execute_result"
    }
   ],
   "source": [
    "l"
   ]
  },
  {
   "cell_type": "code",
   "execution_count": 33,
   "id": "223f7f09-f7e7-4f7a-8225-a1a503622123",
   "metadata": {},
   "outputs": [
    {
     "name": "stdout",
     "output_type": "stream",
     "text": [
      "2\n",
      "4\n",
      "6\n",
      "8\n",
      "10\n"
     ]
    }
   ],
   "source": [
    "l1 = iter(l)\n",
    "for i in range(5):\n",
    "    print(next(l1))"
   ]
  },
  {
   "cell_type": "markdown",
   "id": "ccda8574-ad8b-4d44-9a95-3654884edb33",
   "metadata": {},
   "source": [
    "question 4"
   ]
  },
  {
   "cell_type": "markdown",
   "id": "5000fcbc-f989-4e14-a2f6-1de7b1e6a5b1",
   "metadata": {},
   "source": [
    " a generator function is a special kind of function that returns an iterator, which generates values on-the-fly"
   ]
  },
  {
   "cell_type": "code",
   "execution_count": 8,
   "id": "c52e31b5-fc15-4173-80e1-131a17198e81",
   "metadata": {},
   "outputs": [
    {
     "name": "stdout",
     "output_type": "stream",
     "text": [
      "This is printed first\n",
      "1\n",
      "This is printed second\n",
      "2\n",
      "This is printed at last\n",
      "3\n"
     ]
    }
   ],
   "source": [
    "\n",
    "def my():\n",
    "    n = 1\n",
    "    print(\"This is printed first\")\n",
    "    yield n\n",
    "\n",
    "    n += 1\n",
    "    print(\"This is printed second\")\n",
    "    yield n\n",
    "\n",
    "    n += 1\n",
    "    print(\"This is printed at last\")\n",
    "    yield n\n",
    "\n",
    "gen = my()\n",
    "print(next(gen)) \n",
    "print(next(gen)) \n",
    "print(next(gen)) \n"
   ]
  },
  {
   "cell_type": "code",
   "execution_count": 12,
   "id": "39f85d69-c3c1-45bb-9c5d-b7930ded6b4c",
   "metadata": {},
   "outputs": [
    {
     "name": "stdout",
     "output_type": "stream",
     "text": [
      "2,3,5,7,11,13,17,19,23,29,31,37,41,43,47,53,59,61,67,71,"
     ]
    }
   ],
   "source": [
    "# qustion 5\n",
    "def prime ():\n",
    "    primes = []\n",
    "    for i in range (2,1000):\n",
    "        isprime = True\n",
    "        for prime in primes:\n",
    "            if i % prime ==0:\n",
    "                isprime = False\n",
    "                break\n",
    "        if isprime:\n",
    "            primes.append(i)\n",
    "            yield i\n",
    "primegen =   prime()\n",
    "\n",
    "for i in range (20):\n",
    "    print(next(primegen),end=\",\")"
   ]
  },
  {
   "cell_type": "markdown",
   "id": "d636219c-f9d9-4804-85b9-9d683c501e8e",
   "metadata": {},
   "source": [
    "Question 6\n"
   ]
  },
  {
   "cell_type": "code",
   "execution_count": 13,
   "id": "f762c2cf-bca6-4783-b42f-6c79ecd6fd11",
   "metadata": {},
   "outputs": [
    {
     "name": "stdout",
     "output_type": "stream",
     "text": [
      "0\n",
      "1\n",
      "1\n",
      "2\n",
      "3\n",
      "5\n",
      "8\n",
      "13\n",
      "21\n",
      "34\n"
     ]
    }
   ],
   "source": [
    "a,b= 0,1\n",
    "i =0\n",
    "while i<10:\n",
    "    print(a)\n",
    "    c = a+b\n",
    "    a = b\n",
    "    b= c\n",
    "    i= i+1"
   ]
  },
  {
   "cell_type": "markdown",
   "id": "c061c9e6-e149-4319-9267-d7c832f91b76",
   "metadata": {},
   "source": [
    "question 7"
   ]
  },
  {
   "cell_type": "code",
   "execution_count": 16,
   "id": "c047c0b5-7abf-401d-9472-d40c914bcc01",
   "metadata": {},
   "outputs": [
    {
     "name": "stdout",
     "output_type": "stream",
     "text": [
      "['p', 'w', 's', 'k', 'i', 'l', 'l', 's']\n"
     ]
    }
   ],
   "source": [
    "string = 'pwskills'\n",
    "c = [char for char in string]\n",
    "print(c)\n"
   ]
  },
  {
   "cell_type": "code",
   "execution_count": 19,
   "id": "25013fb4-7c9a-4abd-ba1a-ef6018f43ba3",
   "metadata": {},
   "outputs": [
    {
     "name": "stdin",
     "output_type": "stream",
     "text": [
      "Enter a number:  234432\n"
     ]
    },
    {
     "name": "stdout",
     "output_type": "stream",
     "text": [
      "The number is a palindrome.\n"
     ]
    }
   ],
   "source": [
    "\n",
    "def ispalindrome(number):\n",
    "    temp = number\n",
    "    reverse = 0\n",
    "    while temp > 0:\n",
    "        reverse = (reverse * 10) + (temp % 10)\n",
    "        temp //= 10\n",
    "    return number == reverse\n",
    "\n",
    "number = int(input(\"Enter a number: \"))\n",
    "\n",
    "if ispalindrome(number):\n",
    "    print(\"The number is a palindrome.\")\n",
    "else:\n",
    "    print(\"The number is not a palindrome.\")\n"
   ]
  },
  {
   "cell_type": "markdown",
   "id": "4e51d166-881a-41f8-abc6-5cf32bde1c09",
   "metadata": {},
   "source": [
    "Question 9"
   ]
  }
 ],
 "metadata": {
  "kernelspec": {
   "display_name": "Python 3 (ipykernel)",
   "language": "python",
   "name": "python3"
  },
  "language_info": {
   "codemirror_mode": {
    "name": "ipython",
    "version": 3
   },
   "file_extension": ".py",
   "mimetype": "text/x-python",
   "name": "python",
   "nbconvert_exporter": "python",
   "pygments_lexer": "ipython3",
   "version": "3.10.8"
  }
 },
 "nbformat": 4,
 "nbformat_minor": 5
}
