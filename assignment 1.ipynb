{
 "cells": [
  {
   "cell_type": "markdown",
   "id": "e7f617c5-05ce-40be-ad41-440787a2b212",
   "metadata": {},
   "source": [
    "(Question . 1)  who developed python programming language  ?\n",
    "\n",
    "(Solution . 1)   Guido van Rossum.\n"
   ]
  },
  {
   "cell_type": "markdown",
   "id": "d97f3f73-2692-4257-b715-72aacde76773",
   "metadata": {},
   "source": [
    "(Question .2)   which type of programming does python support ?\n",
    "\n",
    "(Solution . 2)  python support oops and structured programming."
   ]
  },
  {
   "cell_type": "markdown",
   "id": "a1b32f83-3f9f-4c46-9f54-914b92c912da",
   "metadata": {},
   "source": [
    " (Question 3)  is python is case sensitive when dealing with identifier ?\n",
    " \n",
    " (Solution 3)  yes"
   ]
  },
  {
   "cell_type": "markdown",
   "id": "c6607ad7-9e07-4d87-ae0f-3cacf0d3a2f0",
   "metadata": {},
   "source": [
    "(Question 4)  what is the correct extension of th python file ?\n",
    "\n",
    "(Solution  4)  .py extension"
   ]
  },
  {
   "cell_type": "markdown",
   "id": "6c03cc95-80e7-4826-94f1-bd0b6356f14c",
   "metadata": {},
   "source": [
    "(Question 5)  is python is compiled or interpreted ?\n",
    "\n",
    "(solution 5)   interpreted"
   ]
  },
  {
   "cell_type": "markdown",
   "id": "d389a494-e805-43a7-8445-66747c7ffde6",
   "metadata": {},
   "source": [
    "(Question 6) Name a few block of code used to define python language ?\n",
    "\n",
    "(Solution 6) conditional statement, loop "
   ]
  },
  {
   "cell_type": "markdown",
   "id": "8142ac45-21d4-401d-ac18-896a6863cfbc",
   "metadata": {},
   "source": [
    "(Question 7 ) state a character used to give single line comments in python ?\n",
    "\n",
    "\n",
    "(Solution 7 ) # \n"
   ]
  },
  {
   "cell_type": "markdown",
   "id": "751eb11a-ebf3-4e37-8d26-26c3b7abf88e",
   "metadata": {},
   "source": [
    "(Question 8)  Mention function which can help us to find the version of python what we are currently workking on ?\n",
    "\n",
    "(Solution 8)  python_version() "
   ]
  },
  {
   "cell_type": "markdown",
   "id": "d4e251fc-81ea-49ad-8696-b61af3d851ec",
   "metadata": {},
   "source": [
    "(Question 9 ) python support the creation of anonymous function of runtime, using a construct called ?\n",
    "\n",
    "(Solution 9 ) lambda."
   ]
  },
  {
   "cell_type": "markdown",
   "id": "4374c36f-53d9-4da9-874c-9c20f2bfd877",
   "metadata": {},
   "source": [
    "(Question 10)  what does pip stand for python ?\n",
    "\n",
    "\n",
    "(Solution 10) preferred installer program."
   ]
  },
  {
   "cell_type": "markdown",
   "id": "927bc5ca-bf3f-4931-a85a-529c206d7057",
   "metadata": {},
   "source": [
    "(Question 11) mention few built in function in python ?\n",
    "\n",
    "(Solution 11) float(), int(), sort(),len(),type(),summ(),next() and many more"
   ]
  },
  {
   "cell_type": "markdown",
   "id": "76bd9d75-2b4a-4bea-b46c-e9e1b71e5281",
   "metadata": {},
   "source": [
    "(Question 12 )  what is the maximum possible length of an identifier in python ?\n",
    "\n",
    "(Solution 12)  79"
   ]
  },
  {
   "cell_type": "markdown",
   "id": "5a0deb88-55cc-4fa4-8226-c13dd1f98f34",
   "metadata": {},
   "source": [
    "(Question 13 )  what are the benefits of using python ?\n",
    "\n",
    "(Solution 13 )  1. easy to learn\n",
    "    2. flexibility.\n",
    "    3.used in many company"
   ]
  },
  {
   "cell_type": "markdown",
   "id": "6d135dbc-75fd-42bb-98a6-36aaf1399c7f",
   "metadata": {},
   "source": [
    "(Question 14)  how is memory managed in python ?\n",
    "\n",
    "(Solution 14) heap"
   ]
  },
  {
   "cell_type": "markdown",
   "id": "38b51674-0d0a-43a1-a7aa-472a7099dc6a",
   "metadata": {},
   "source": [
    "(Question 15) how to install python on windows and set path variables ?\n",
    "\n",
    "(Solution 15) go to official site of python download python file and select add to path option  "
   ]
  },
  {
   "cell_type": "markdown",
   "id": "ec5351a6-ae4b-425f-bb0e-397966762e52",
   "metadata": {},
   "source": [
    "(Question 16 ) is indentation required in python ?\n",
    "\n",
    "\n",
    "(Solution 16)  yes\n"
   ]
  }
 ],
 "metadata": {
  "kernelspec": {
   "display_name": "Python 3 (ipykernel)",
   "language": "python",
   "name": "python3"
  },
  "language_info": {
   "codemirror_mode": {
    "name": "ipython",
    "version": 3
   },
   "file_extension": ".py",
   "mimetype": "text/x-python",
   "name": "python",
   "nbconvert_exporter": "python",
   "pygments_lexer": "ipython3",
   "version": "3.10.8"
  }
 },
 "nbformat": 4,
 "nbformat_minor": 5
}
