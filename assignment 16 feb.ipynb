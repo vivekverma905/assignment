{
 "cells": [
  {
   "cell_type": "markdown",
   "id": "f9cbd7f2-a316-4b7b-b8ca-6d0e200257a8",
   "metadata": {},
   "source": [
    "Question 1"
   ]
  },
  {
   "cell_type": "markdown",
   "id": "1ea68639-e685-4f70-9c96-6bc1e7ce0082",
   "metadata": {},
   "source": [
    "database is a software that is used to store data . in this it provide  insertion ,deletion , updatation. "
   ]
  },
  {
   "cell_type": "markdown",
   "id": "001e9f85-911f-4513-8322-268daafb3bcf",
   "metadata": {},
   "source": [
    "SQL stands for structrued query language \n",
    "sql is relational query language\n",
    "schema of sql is fixed\n",
    "sql is vertically scalabile\n",
    "\n",
    "NOSQL \n",
    "it is non relational query language \n",
    "it is not fixed schema \n",
    "it horizontall scalabile"
   ]
  },
  {
   "cell_type": "markdown",
   "id": "5522a591-c476-4274-a816-4e64073f4872",
   "metadata": {},
   "source": [
    "Question 2"
   ]
  },
  {
   "cell_type": "markdown",
   "id": "b22e9a55-40ca-41b5-9b8d-dcac63a7889a",
   "metadata": {},
   "source": [
    "DDL : data defination language  it is set of SQL command that can create drop alter and truncate"
   ]
  },
  {
   "cell_type": "markdown",
   "id": "03f52a0c-3bb9-4afe-ad2c-74b74079b45a",
   "metadata": {},
   "source": [
    "create is used to create new rows or column or table "
   ]
  },
  {
   "cell_type": "markdown",
   "id": "ba1fe792-0ec6-496c-96f8-f3cc438a2308",
   "metadata": {},
   "source": [
    "CREATE TABLE student (\n",
    "    ID int,\n",
    "    name varchar(255),\n",
    "    marks  decimal(10, 2)\n",
    ");\n"
   ]
  },
  {
   "cell_type": "markdown",
   "id": "a7c54617-0552-4f31-933f-ddd5685897a9",
   "metadata": {},
   "source": [
    " drop used to delete a database object, such as a table "
   ]
  },
  {
   "cell_type": "markdown",
   "id": "d91d2384-0e79-46fa-a810-90b42fb250c6",
   "metadata": {},
   "source": [
    "DROP TABLE student;\n"
   ]
  },
  {
   "cell_type": "markdown",
   "id": "1b0cd3e1-6908-4b0f-bbd5-d18bad9f701c",
   "metadata": {},
   "source": [
    "alter used to modify the structure of an existing database object"
   ]
  },
  {
   "cell_type": "markdown",
   "id": "00f8f421-9d74-4743-b9d3-4c060fa8d927",
   "metadata": {},
   "source": [
    "ALTER TABLE student ADD COLUMN email varchar(255);\n"
   ]
  },
  {
   "cell_type": "markdown",
   "id": "2ed1ef43-7b0d-4171-83a7-f7981b3b1083",
   "metadata": {},
   "source": [
    "truncate  is used to delete all data from a table, but not the table itself"
   ]
  },
  {
   "cell_type": "markdown",
   "id": "3f13889b-154a-401c-99b0-6853521b4af2",
   "metadata": {},
   "source": [
    "TRUNCATE TABLE student;\n"
   ]
  },
  {
   "cell_type": "markdown",
   "id": "77839e53-ba01-44a5-9284-c78bcac98c0b",
   "metadata": {},
   "source": [
    "DML it stand for data munipulation language \n",
    "it is set of SQl commond in which insertion , updation , delete "
   ]
  },
  {
   "cell_type": "markdown",
   "id": "35dc18fe-cae4-4a6b-a92a-df7ef25fe34b",
   "metadata": {},
   "source": [
    "insert command is used new rows or column or table"
   ]
  },
  {
   "cell_type": "markdown",
   "id": "127771bd-e7f8-47fc-934e-547959b66a90",
   "metadata": {},
   "source": [
    "INSERT INTO Employees (EmployeeID, FirstName, LastName, Department)\n",
    "VALUES (1001, 'John', 'Doe', 'Sales');\n"
   ]
  },
  {
   "cell_type": "markdown",
   "id": "d27d56b1-777f-4b9c-9442-032731fed5f0",
   "metadata": {},
   "source": [
    "update is used update the rows or column  "
   ]
  },
  {
   "cell_type": "markdown",
   "id": "377112a3-bb37-45cb-8ffd-ae40279a0e52",
   "metadata": {},
   "source": [
    "UPDATE Employees\n",
    "SET Department = 'Marketing'\n",
    "WHERE EmployeeID = 1001;\n"
   ]
  },
  {
   "cell_type": "markdown",
   "id": "8ca16048-824c-4a0c-8eba-35a75228b34b",
   "metadata": {},
   "source": [
    "this statement is used to delete data from a table"
   ]
  },
  {
   "cell_type": "markdown",
   "id": "d162b1e7-b8d5-4dbe-ab6c-35e79b8d919e",
   "metadata": {},
   "source": [
    "DELETE FROM Employees\n",
    "WHERE EmployeeID = 1001;\n"
   ]
  },
  {
   "cell_type": "markdown",
   "id": "db05e209-cd51-43a8-836a-517abef483ff",
   "metadata": {},
   "source": [
    "Question 4"
   ]
  },
  {
   "cell_type": "markdown",
   "id": "24291b08-44c9-4331-a05e-13bd03f85127",
   "metadata": {},
   "source": [
    "DQL stands for data query language \n",
    "it is used to retrive data from the  database\n"
   ]
  },
  {
   "cell_type": "markdown",
   "id": "8b451fcc-9e88-430b-ba1e-c913b18a7863",
   "metadata": {},
   "source": [
    " select is used retrieves data from a table or tables and displays it in the form of a result set"
   ]
  },
  {
   "cell_type": "markdown",
   "id": "263419dd-3d7a-4fc4-91b7-fbce8e1f9812",
   "metadata": {},
   "source": [
    "SELECT * FROM Students;\n"
   ]
  },
  {
   "cell_type": "markdown",
   "id": "b7929466-569e-4b81-8867-c54483ae8858",
   "metadata": {},
   "source": [
    "SELECT FirstName, LastName FROM Students;\n"
   ]
  },
  {
   "cell_type": "markdown",
   "id": "65bd36e1-9415-4e14-a6c4-9f3b817f8d02",
   "metadata": {},
   "source": [
    "Question 5"
   ]
  },
  {
   "cell_type": "markdown",
   "id": "de040173-18a9-4105-81bd-a92a1908aeb2",
   "metadata": {},
   "source": [
    "A primary key is a column or set of columns in a relational database table that uniquely identifies each row or record in that table. It acts as a unique identifier for each record, and no two records in the table can have the same primary key value."
   ]
  },
  {
   "cell_type": "markdown",
   "id": "488cf174-8c9d-4987-8d15-ebbccc5d85f4",
   "metadata": {},
   "source": [
    "A foreign key, on the other hand, is a column or set of columns in a table that references the primary key of another table. It is used to establish a relationship between two tables in a relational database. By referencing the primary key of another table, the foreign key ensures that the data in the referencing table is consistent with the data in the referenced table"
   ]
  },
  {
   "cell_type": "markdown",
   "id": "5c0e75d4-5b5b-4d7c-b019-51f259a3b7fd",
   "metadata": {},
   "source": [
    "Question 6"
   ]
  },
  {
   "cell_type": "markdown",
   "id": "29f84c81-bcaa-46b3-b0cf-08043a3ec021",
   "metadata": {},
   "source": [
    "import mysql.connector\n",
    "mydb = mysql.connector.connect(\n",
    "  host=\"localhost\",\n",
    "  user=\"yourusername\",\n",
    "  password=\"yourpassword\",\n",
    "  database=\"yourdatabase\"\n",
    ")\n",
    "\n",
    "mycursor = mydb.cursor()\n",
    "\n",
    "\n",
    "mycursor.execute(\"SELECT * FROM yourtable\")\n",
    "\n",
    "myresult = mycursor.fetchall()\n",
    "for x in myresult:\n",
    "  print(x)\n"
   ]
  },
  {
   "cell_type": "markdown",
   "id": "764b6b04-3454-4f34-a2de-023f1f04576e",
   "metadata": {},
   "source": [
    "The cursor() method creates a new cursor object that can be used to interact with the database."
   ]
  },
  {
   "cell_type": "markdown",
   "id": "c1df66f7-80bb-461a-b754-c6dc91faa6fb",
   "metadata": {},
   "source": [
    "The execute() method is used to execute an SQL query. It takes a string as a parameter that contains the SQL query."
   ]
  },
  {
   "cell_type": "markdown",
   "id": "3093f29a-8c0c-419e-b572-30c0b97a9b2d",
   "metadata": {},
   "source": [
    "Question 7"
   ]
  },
  {
   "cell_type": "markdown",
   "id": "e30cbd73-a020-4d61-a354-1e12f1942525",
   "metadata": {},
   "source": [
    "1. FROM \n",
    "2. JOIN\n",
    "3. WHERE \n",
    "4. GROUP BY\n"
   ]
  },
  {
   "cell_type": "code",
   "execution_count": null,
   "id": "39152188-36a0-4917-9a9c-c2c934e06569",
   "metadata": {},
   "outputs": [],
   "source": []
  }
 ],
 "metadata": {
  "kernelspec": {
   "display_name": "Python 3 (ipykernel)",
   "language": "python",
   "name": "python3"
  },
  "language_info": {
   "codemirror_mode": {
    "name": "ipython",
    "version": 3
   },
   "file_extension": ".py",
   "mimetype": "text/x-python",
   "name": "python",
   "nbconvert_exporter": "python",
   "pygments_lexer": "ipython3",
   "version": "3.10.8"
  }
 },
 "nbformat": 4,
 "nbformat_minor": 5
}
