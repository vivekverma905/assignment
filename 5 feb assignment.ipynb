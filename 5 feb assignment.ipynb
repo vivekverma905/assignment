{
 "cells": [
  {
   "cell_type": "markdown",
   "id": "ccdccf02-44f3-424c-ade4-a0299f0573be",
   "metadata": {},
   "source": [
    "Question 1"
   ]
  },
  {
   "cell_type": "markdown",
   "id": "9f8a5f21-4270-438f-8422-d2dac012227f",
   "metadata": {},
   "source": [
    "class is a blueprint thet defines the properties of object"
   ]
  },
  {
   "cell_type": "code",
   "execution_count": 1,
   "id": "4d7dfd75-3c2b-46bd-98f8-1c85499d9c49",
   "metadata": {},
   "outputs": [
    {
     "name": "stdout",
     "output_type": "stream",
     "text": [
      "Labrador Buddy 5\n",
      "Golden Retriever Max 3\n",
      "Woof!\n",
      "Woof!\n"
     ]
    }
   ],
   "source": [
    "class Dog:\n",
    "    def __init__(self, breed, name, age):\n",
    "        self.breed = breed\n",
    "        self.name = name\n",
    "        self.age = age\n",
    "\n",
    "    def bark(self):\n",
    "        print(\"Woof!\")\n",
    "\n",
    "dog1 = Dog(\"Labrador\", \"Buddy\", 5)\n",
    "dog2 = Dog(\"Golden Retriever\", \"Max\", 3)\n",
    "\n",
    "print(dog1.breed, dog1.name, dog1.age) \n",
    "print(dog2.breed, dog2.name, dog2.age) \n",
    "\n",
    "dog1.bark()\n",
    "dog2.bark() \n"
   ]
  },
  {
   "cell_type": "markdown",
   "id": "ddfda758-6ab9-4509-9f0d-7da7937999ae",
   "metadata": {},
   "source": [
    "Question 2"
   ]
  },
  {
   "cell_type": "markdown",
   "id": "63af9676-89a8-4754-b490-dad93bd8076c",
   "metadata": {},
   "source": [
    "1. inheritance\n",
    "2. polymorphism\n",
    "3. abstraction\n",
    "4. encapsulation"
   ]
  },
  {
   "cell_type": "markdown",
   "id": "0e3646e3-6cd1-4f22-8cca-18432f2fe144",
   "metadata": {},
   "source": [
    "Question 3"
   ]
  },
  {
   "cell_type": "code",
   "execution_count": 2,
   "id": "25670f59-7f34-4ef5-b2ae-bd38cb246636",
   "metadata": {},
   "outputs": [
    {
     "name": "stdout",
     "output_type": "stream",
     "text": [
      "Labrador Buddy 5\n"
     ]
    }
   ],
   "source": [
    "class Dog:\n",
    "    def __init__(self, breed, name, age):\n",
    "        self.breed = breed\n",
    "        self.name = name\n",
    "        self.age = age\n",
    "\n",
    "    def bark(self):\n",
    "        print(\"Woof!\")\n",
    "\n",
    "dog1 = Dog(\"Labrador\", \"Buddy\", 5)\n",
    "\n",
    "print(dog1.breed, dog1.name, dog1.age) \n"
   ]
  },
  {
   "cell_type": "markdown",
   "id": "10235cb3-4e2d-4849-8e25-3974918ed60c",
   "metadata": {},
   "source": [
    "Question 4"
   ]
  },
  {
   "cell_type": "markdown",
   "id": "dd7bcc4c-be7a-47f0-b4d9-f3eac36b8c24",
   "metadata": {},
   "source": [
    "sef keyword is used as a referance to current object being created or maniulated"
   ]
  },
  {
   "cell_type": "markdown",
   "id": "4aae4163-2e3c-48d0-b4bc-c8d39b64f5cd",
   "metadata": {},
   "source": [
    "Question 5"
   ]
  },
  {
   "cell_type": "code",
   "execution_count": null,
   "id": "8e205574-9a36-4399-b6dd-9b7ebe733b7d",
   "metadata": {},
   "outputs": [],
   "source": [
    "it alllows to create new class "
   ]
  }
 ],
 "metadata": {
  "kernelspec": {
   "display_name": "Python 3 (ipykernel)",
   "language": "python",
   "name": "python3"
  },
  "language_info": {
   "codemirror_mode": {
    "name": "ipython",
    "version": 3
   },
   "file_extension": ".py",
   "mimetype": "text/x-python",
   "name": "python",
   "nbconvert_exporter": "python",
   "pygments_lexer": "ipython3",
   "version": "3.10.8"
  }
 },
 "nbformat": 4,
 "nbformat_minor": 5
}
