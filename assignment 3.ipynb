{
 "cells": [
  {
   "cell_type": "code",
   "execution_count": 12,
   "id": "c09c8bf7-0ea9-4342-acb4-c7fa709c7b30",
   "metadata": {},
   "outputs": [
    {
     "name": "stdout",
     "output_type": "stream",
     "text": [
      "55\n"
     ]
    }
   ],
   "source": [
    "sum = 0\n",
    "for i in range(11):\n",
    "    sum = sum+i\n",
    "print (sum)\n",
    "    \n",
    "    \n",
    "    "
   ]
  },
  {
   "cell_type": "code",
   "execution_count": 13,
   "id": "8b242c86-cf27-43da-9ecf-9235eb5a7f7a",
   "metadata": {},
   "outputs": [
    {
     "data": {
      "text/plain": [
       "3628800"
      ]
     },
     "execution_count": 13,
     "metadata": {},
     "output_type": "execute_result"
    }
   ],
   "source": [
    "product = 1\n",
    "for i in range(1,11):\n",
    "    product = product*i\n",
    "product    \n",
    "    \n",
    "    "
   ]
  },
  {
   "cell_type": "code",
   "execution_count": 7,
   "id": "6b370d2f-a07e-40f4-8319-ac0b82599dfa",
   "metadata": {},
   "outputs": [
    {
     "name": "stdout",
     "output_type": "stream",
     "text": [
      "55\n"
     ]
    }
   ],
   "source": [
    "sum = 0 \n",
    "i = 1\n",
    "while (i <= 10):\n",
    "    sum = sum +i\n",
    "    i = i+1\n",
    "print (sum)  \n",
    "   \n",
    "    "
   ]
  },
  {
   "cell_type": "code",
   "execution_count": 14,
   "id": "76fc19ec-afec-4a3f-89cb-dddb0209aa79",
   "metadata": {},
   "outputs": [
    {
     "name": "stdout",
     "output_type": "stream",
     "text": [
      "3628800\n"
     ]
    }
   ],
   "source": [
    "product = 1\n",
    "i = 1\n",
    "while (i <= 10):\n",
    "    product = product *i\n",
    "    i = i+1\n",
    "print (product)    \n",
    "    "
   ]
  },
  {
   "cell_type": "code",
   "execution_count": 21,
   "id": "9bd0e5c7-16b6-44b6-bd3d-5e1eae24f0e9",
   "metadata": {},
   "outputs": [
    {
     "name": "stdin",
     "output_type": "stream",
     "text": [
      "Enter the number of units consumed:  310\n"
     ]
    },
    {
     "name": "stdout",
     "output_type": "stream",
     "text": [
      "The total electricity bill wil be  Rs. 2250.0\n"
     ]
    }
   ],
   "source": [
    "\n",
    "meterreading = int(input(\"Enter the number of units consumed \"))\n",
    "\n",
    "\n",
    "bill = 0\n",
    "\n",
    "\n",
    "if meterreading <= 100:\n",
    "    bill = meterreading * 4.5\n",
    "elif meterreading <= 200:\n",
    "    bill = 100 * 4.5 + (meterreading - 100) * 6\n",
    "elif meterreading <= 300:\n",
    "    bill = 100 * 4.5 + 100 * 6 + (meterreading - 200) * 10\n",
    "else:\n",
    "    bill = 100 * 4.5 + 100 * 6 + 100 * 10 + (meterreading - 300) * 20\n",
    "\n",
    "\n",
    "print(\" the total bill amount is = \", bill)\n"
   ]
  },
  {
   "cell_type": "code",
   "execution_count": 28,
   "id": "789d7580-7230-48b7-8fbf-e12c0eeb1845",
   "metadata": {},
   "outputs": [
    {
     "name": "stdout",
     "output_type": "stream",
     "text": [
      "[8, 64, 125, 216, 512, 1000, 1728, 2744, 3375, 4096, 5832, 8000, 10648, 13824, 15625, 17576, 21952, 27000, 32768, 39304, 42875, 46656, 54872, 64000, 74088, 85184, 91125, 97336, 110592, 125000, 140608, 157464, 166375, 175616, 195112, 216000, 238328, 262144, 274625, 287496, 314432, 343000, 373248, 405224, 421875, 438976, 474552, 512000, 551368, 592704, 614125, 636056, 681472, 729000, 778688, 830584, 857375, 884736, 941192, 1000000]\n"
     ]
    }
   ],
   "source": [
    "cubes= []\n",
    "for i in range(1,101):\n",
    "    cube = i**3\n",
    "    if cube % 4 == 0 or cube % 5 == 0:\n",
    "        cubes.append(cube)\n",
    "        \n",
    "        \n",
    "print(cubes)"
   ]
  },
  {
   "cell_type": "code",
   "execution_count": 31,
   "id": "92f5596a-502c-4d80-b480-a045f5cc2db8",
   "metadata": {},
   "outputs": [
    {
     "name": "stdout",
     "output_type": "stream",
     "text": [
      "[8, 64, 125, 216, 512, 1000, 1728, 2744, 3375, 4096, 5832, 8000, 10648, 13824, 15625, 17576, 21952, 27000, 32768, 39304, 42875, 46656, 54872, 64000, 74088, 85184, 91125, 97336, 110592, 125000, 140608, 157464, 166375, 175616, 195112, 216000, 238328, 262144, 274625, 287496, 314432, 343000, 373248, 405224, 421875, 438976, 474552, 512000, 551368, 592704, 614125, 636056, 681472, 729000, 778688, 830584, 857375, 884736, 941192, 1000000]\n"
     ]
    }
   ],
   "source": [
    "cubes = []\n",
    "i = 1\n",
    "while (i<=100):\n",
    "    cube = i**3\n",
    "    if cube % 4 == 0 or cube % 5 == 0:\n",
    "        cubes.append(cube)\n",
    "    i += 1\n",
    "    \n",
    "print(cubes)    \n",
    "    "
   ]
  },
  {
   "cell_type": "code",
   "execution_count": 33,
   "id": "a2982318-4fe8-455f-8730-e4e6f41c3c64",
   "metadata": {},
   "outputs": [
    {
     "name": "stdout",
     "output_type": "stream",
     "text": [
      "12\n"
     ]
    }
   ],
   "source": [
    "\n",
    "string = \"I want to become a data scientist\"\n",
    "vowels = \"aeiouAEIOU\"\n",
    "count = 0\n",
    "for char in string:\n",
    "    if char in vowels:\n",
    "        count += 1\n",
    "        \n",
    "print( count)\n"
   ]
  },
  {
   "cell_type": "code",
   "execution_count": null,
   "id": "08f3ed6e-c30d-4814-9246-71a92491002f",
   "metadata": {},
   "outputs": [],
   "source": []
  }
 ],
 "metadata": {
  "kernelspec": {
   "display_name": "Python 3 (ipykernel)",
   "language": "python",
   "name": "python3"
  },
  "language_info": {
   "codemirror_mode": {
    "name": "ipython",
    "version": 3
   },
   "file_extension": ".py",
   "mimetype": "text/x-python",
   "name": "python",
   "nbconvert_exporter": "python",
   "pygments_lexer": "ipython3",
   "version": "3.10.8"
  }
 },
 "nbformat": 4,
 "nbformat_minor": 5
}
