{
 "cells": [
  {
   "cell_type": "markdown",
   "id": "cbad5379-adf6-4718-8774-96b6724a645e",
   "metadata": {},
   "source": [
    "Question 1"
   ]
  },
  {
   "cell_type": "markdown",
   "id": "a61452f9-e729-4a44-9687-6721398c768a",
   "metadata": {},
   "source": [
    "\n",
    "abstraction is used to hide the implementation detail of a class"
   ]
  },
  {
   "cell_type": "code",
   "execution_count": 7,
   "id": "c5de0dc2-8e07-4548-a917-a65201b80e3a",
   "metadata": {},
   "outputs": [],
   "source": [
    "class bank_account :\n",
    "    def __init__(self , balance):\n",
    "        self.__balance = balance\n",
    "        \n",
    "        \n",
    "    def deposit(self , amount):\n",
    "        self.__balance = self.__balance + amount\n",
    "        \n",
    " "
   ]
  },
  {
   "cell_type": "markdown",
   "id": "ffc7e181-95b3-4936-a3c9-3a0f00aabc4d",
   "metadata": {},
   "source": [
    "here the __init__ function will not be seen to user."
   ]
  },
  {
   "cell_type": "markdown",
   "id": "e0d840e2-f372-4498-9860-3720c6c93d63",
   "metadata": {},
   "source": [
    "Question 2"
   ]
  },
  {
   "cell_type": "markdown",
   "id": "7dc1b5bc-a6da-4ebd-9f59-503c89f392e6",
   "metadata": {},
   "source": [
    " abstraction is used to hide the implementation detail of a class \n",
    "    \n",
    "    \n",
    "    where as encapsulation is used to create a barrier between the internal representation of an object and the external world"
   ]
  },
  {
   "cell_type": "markdown",
   "id": "ce64fb68-2ec4-4d5a-a58d-ff2d47a6fc3c",
   "metadata": {},
   "source": [
    "Question 3"
   ]
  },
  {
   "cell_type": "markdown",
   "id": "c3b21565-b882-4554-9f67-60fd47da1a35",
   "metadata": {},
   "source": [
    " abc module is a set of methods that must be implemented by its subclasses"
   ]
  },
  {
   "cell_type": "markdown",
   "id": "354d79b9-102c-44f1-b869-b901f64e568d",
   "metadata": {},
   "source": [
    "used to define abstract base classes and abstract method  it is simply inheriat the character"
   ]
  },
  {
   "cell_type": "markdown",
   "id": "d54099f5-215d-464d-8da3-dfea5591cae0",
   "metadata": {},
   "source": [
    "Question 4"
   ]
  },
  {
   "cell_type": "markdown",
   "id": "4e06e7a7-11b3-4202-938e-ff8729ace026",
   "metadata": {},
   "source": [
    " data abstraction can be achieved through encapsulation"
   ]
  },
  {
   "cell_type": "markdown",
   "id": "7a754897-7df2-4d2b-b7e2-5ee159f32081",
   "metadata": {},
   "source": [
    "Question 5\n"
   ]
  },
  {
   "cell_type": "markdown",
   "id": "323a0631-8515-4f67-b722-07a8fca4c320",
   "metadata": {},
   "source": [
    "no we can not create an instance of an abstract class"
   ]
  },
  {
   "cell_type": "code",
   "execution_count": null,
   "id": "90de344f-fcee-4e53-a24e-28efd0612d12",
   "metadata": {},
   "outputs": [],
   "source": [
    "from abc import ABC, abstractmethod\n",
    "\n",
    "class Shape(ABC):\n",
    "    \n",
    "    def area(self):\n",
    "        pass\n",
    "\n",
    "class Square(Shape):\n",
    "    def __init__(self, side):\n",
    "        self.side = side\n",
    "        \n",
    "    def area(self):\n",
    "        return self.side * self.side\n",
    "\n",
    "\n",
    "square = Square(5)\n",
    "print(square.area())\n",
    "\n",
    "# try to create an instance of the abstract class Shape\n",
    "# this will result in an error\n",
    "shape = Shape() # TypeError: Can't instantiate abstract class Shape with abstract methods area\n"
   ]
  }
 ],
 "metadata": {
  "kernelspec": {
   "display_name": "Python 3 (ipykernel)",
   "language": "python",
   "name": "python3"
  },
  "language_info": {
   "codemirror_mode": {
    "name": "ipython",
    "version": 3
   },
   "file_extension": ".py",
   "mimetype": "text/x-python",
   "name": "python",
   "nbconvert_exporter": "python",
   "pygments_lexer": "ipython3",
   "version": "3.10.8"
  }
 },
 "nbformat": 4,
 "nbformat_minor": 5
}
