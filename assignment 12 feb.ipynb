{
 "cells": [
  {
   "cell_type": "markdown",
   "id": "86b034ab-c29d-444d-9e9f-e7b2aba43994",
   "metadata": {},
   "source": [
    "Question 1"
   ]
  },
  {
   "cell_type": "markdown",
   "id": "bc671d08-bfb9-45f0-b9d2-49a2bfede32d",
   "metadata": {},
   "source": [
    "exception  in python means that when a block of code file and gives an error the exception block will be executed  and produces output along with the error"
   ]
  },
  {
   "cell_type": "markdown",
   "id": "f6494b6c-a756-4734-a6fa-e58f0a1c885c",
   "metadata": {},
   "source": [
    "syntax error is the mistakes  in code  that voilate the rule of python"
   ]
  },
  {
   "cell_type": "markdown",
   "id": "0743f357-578b-46f9-8e9a-b5a2c62f8dac",
   "metadata": {},
   "source": [
    "Question 2"
   ]
  },
  {
   "cell_type": "markdown",
   "id": "3dda2440-d901-4216-9bdb-599097171fdd",
   "metadata": {},
   "source": [
    "when exception is not handled then it causes the program to crash and unspected behaviour."
   ]
  },
  {
   "cell_type": "code",
   "execution_count": 8,
   "id": "40b71dba-bc52-4265-a7a1-93cf219d3d1c",
   "metadata": {},
   "outputs": [
    {
     "name": "stdout",
     "output_type": "stream",
     "text": [
      "this is my exception block\n"
     ]
    }
   ],
   "source": [
    "try :\n",
    "    f = open(\"text2.txt\" , 'r')\n",
    "    file = f.raad()\n",
    "    print(file)\n",
    "except Exception as e:\n",
    "    print(\"this is my exception block\")\n"
   ]
  },
  {
   "cell_type": "markdown",
   "id": "0dfb200e-4fac-44cc-b076-270872d9612e",
   "metadata": {},
   "source": [
    "Question 3"
   ]
  },
  {
   "cell_type": "markdown",
   "id": "f5c2c562-471e-4085-a9e5-c3ce9282be6c",
   "metadata": {},
   "source": [
    "try and except statement is used to handle exception"
   ]
  },
  {
   "cell_type": "code",
   "execution_count": null,
   "id": "5395d9b0-a1c3-40f5-8409-957ae0e4db47",
   "metadata": {},
   "outputs": [],
   "source": [
    "try:\n",
    "    num1 = int(input(\"enter a number: \"))\n",
    "    num2 = int(input(\"enter another number: \"))\n",
    "    result = num1 / num2\n",
    "    print(\"result: \", result)\n",
    "except valueError:\n",
    "    print(\"invalid input please enter a number.\")\n",
    "except zeroerror:\n",
    "    print(\"cannot divide by zero\")\n"
   ]
  },
  {
   "cell_type": "markdown",
   "id": "205e1272-1727-42f2-b7fc-15766a51f41e",
   "metadata": {},
   "source": [
    "Question 4"
   ]
  },
  {
   "cell_type": "markdown",
   "id": "2343580f-5ec1-48f0-b7b5-f77d424a0c3a",
   "metadata": {},
   "source": [
    "try and else \n",
    "\n",
    "if the try statement gets excuted complitely then the else statement will be excuted . if try statement gives an error then the exception statement statement will be  excuted ."
   ]
  },
  {
   "cell_type": "code",
   "execution_count": 1,
   "id": "7405c630-0738-4e78-b8b5-b62d81f6a96c",
   "metadata": {},
   "outputs": [
    {
     "name": "stdout",
     "output_type": "stream",
     "text": [
      "this is else block statement which is to be \n"
     ]
    }
   ],
   "source": [
    "try :\n",
    "    f = open(\"text1.txt\" , 'w')\n",
    "    f.write(\" this is my block of code under try statement \")\n",
    "    \n",
    "except exception as e :\n",
    "    print(\"this is a block of code under exception \")\n",
    "    \n",
    "else :\n",
    "    f.close()\n",
    "    print(\"this is else block statement which is to be \")\n",
    "    "
   ]
  },
  {
   "cell_type": "markdown",
   "id": "bd7a01a2-aa4a-4788-9e02-86435f391f54",
   "metadata": {},
   "source": [
    "finally  is to excuted in any sutation "
   ]
  },
  {
   "cell_type": "code",
   "execution_count": 2,
   "id": "aa305804-cdb9-44c5-ba65-b810dc70e635",
   "metadata": {},
   "outputs": [
    {
     "name": "stdout",
     "output_type": "stream",
     "text": [
      "this is a statement of finally block which is to be excuted in any sutation of the code\n"
     ]
    },
    {
     "ename": "FileNotFoundError",
     "evalue": "[Errno 2] No such file or directory: 'text2.txt'",
     "output_type": "error",
     "traceback": [
      "\u001b[0;31m---------------------------------------------------------------------------\u001b[0m",
      "\u001b[0;31mFileNotFoundError\u001b[0m                         Traceback (most recent call last)",
      "Cell \u001b[0;32mIn[2], line 2\u001b[0m\n\u001b[1;32m      1\u001b[0m \u001b[38;5;28;01mtry\u001b[39;00m :\n\u001b[0;32m----> 2\u001b[0m     f \u001b[38;5;241m=\u001b[39m \u001b[38;5;28;43mopen\u001b[39;49m\u001b[43m(\u001b[49m\u001b[38;5;124;43m\"\u001b[39;49m\u001b[38;5;124;43mtext2.txt\u001b[39;49m\u001b[38;5;124;43m\"\u001b[39;49m\u001b[43m \u001b[49m\u001b[43m,\u001b[49m\u001b[43m \u001b[49m\u001b[38;5;124;43m'\u001b[39;49m\u001b[38;5;124;43mr\u001b[39;49m\u001b[38;5;124;43m'\u001b[39;49m\u001b[43m)\u001b[49m\n\u001b[1;32m      3\u001b[0m     f\u001b[38;5;241m.\u001b[39mwrite(\u001b[38;5;124m\"\u001b[39m\u001b[38;5;124mthis is a block of code\u001b[39m\u001b[38;5;124m\"\u001b[39m)\n\u001b[1;32m      5\u001b[0m \u001b[38;5;28;01mfinally\u001b[39;00m :\n",
      "File \u001b[0;32m/opt/conda/lib/python3.10/site-packages/IPython/core/interactiveshell.py:282\u001b[0m, in \u001b[0;36m_modified_open\u001b[0;34m(file, *args, **kwargs)\u001b[0m\n\u001b[1;32m    275\u001b[0m \u001b[38;5;28;01mif\u001b[39;00m file \u001b[38;5;129;01min\u001b[39;00m {\u001b[38;5;241m0\u001b[39m, \u001b[38;5;241m1\u001b[39m, \u001b[38;5;241m2\u001b[39m}:\n\u001b[1;32m    276\u001b[0m     \u001b[38;5;28;01mraise\u001b[39;00m \u001b[38;5;167;01mValueError\u001b[39;00m(\n\u001b[1;32m    277\u001b[0m         \u001b[38;5;124mf\u001b[39m\u001b[38;5;124m\"\u001b[39m\u001b[38;5;124mIPython won\u001b[39m\u001b[38;5;124m'\u001b[39m\u001b[38;5;124mt let you open fd=\u001b[39m\u001b[38;5;132;01m{\u001b[39;00mfile\u001b[38;5;132;01m}\u001b[39;00m\u001b[38;5;124m by default \u001b[39m\u001b[38;5;124m\"\u001b[39m\n\u001b[1;32m    278\u001b[0m         \u001b[38;5;124m\"\u001b[39m\u001b[38;5;124mas it is likely to crash IPython. If you know what you are doing, \u001b[39m\u001b[38;5;124m\"\u001b[39m\n\u001b[1;32m    279\u001b[0m         \u001b[38;5;124m\"\u001b[39m\u001b[38;5;124myou can use builtins\u001b[39m\u001b[38;5;124m'\u001b[39m\u001b[38;5;124m open.\u001b[39m\u001b[38;5;124m\"\u001b[39m\n\u001b[1;32m    280\u001b[0m     )\n\u001b[0;32m--> 282\u001b[0m \u001b[38;5;28;01mreturn\u001b[39;00m \u001b[43mio_open\u001b[49m\u001b[43m(\u001b[49m\u001b[43mfile\u001b[49m\u001b[43m,\u001b[49m\u001b[43m \u001b[49m\u001b[38;5;241;43m*\u001b[39;49m\u001b[43margs\u001b[49m\u001b[43m,\u001b[49m\u001b[43m \u001b[49m\u001b[38;5;241;43m*\u001b[39;49m\u001b[38;5;241;43m*\u001b[39;49m\u001b[43mkwargs\u001b[49m\u001b[43m)\u001b[49m\n",
      "\u001b[0;31mFileNotFoundError\u001b[0m: [Errno 2] No such file or directory: 'text2.txt'"
     ]
    }
   ],
   "source": [
    "try :\n",
    "    f = open(\"text2.txt\" , 'r')\n",
    "    f.write(\"this is a block of code\")\n",
    "    \n",
    "finally :\n",
    "    print(\"this is a statement of finally block which is to be excuted in any sutation of the code\")\n",
    "    \n",
    "    "
   ]
  },
  {
   "cell_type": "markdown",
   "id": "43b5a028-b87b-47b7-b814-cc4b21690b92",
   "metadata": {},
   "source": [
    "raise is used to validate any block of code "
   ]
  },
  {
   "cell_type": "code",
   "execution_count": 13,
   "id": "69453667-a8cd-4856-8afe-25ec4028f27a",
   "metadata": {},
   "outputs": [
    {
     "name": "stdout",
     "output_type": "stream",
     "text": [
      "Error: Cannot divide by zero.\n"
     ]
    },
    {
     "ename": "ZeroDivisionError",
     "evalue": "division by zero",
     "output_type": "error",
     "traceback": [
      "\u001b[0;31m---------------------------------------------------------------------------\u001b[0m",
      "\u001b[0;31mZeroDivisionError\u001b[0m                         Traceback (most recent call last)",
      "Cell \u001b[0;32mIn[13], line 2\u001b[0m\n\u001b[1;32m      1\u001b[0m \u001b[38;5;28;01mtry\u001b[39;00m:\n\u001b[0;32m----> 2\u001b[0m     x \u001b[38;5;241m=\u001b[39m \u001b[38;5;241;43m1\u001b[39;49m\u001b[43m \u001b[49m\u001b[38;5;241;43m/\u001b[39;49m\u001b[43m \u001b[49m\u001b[38;5;241;43m0\u001b[39;49m\n\u001b[1;32m      3\u001b[0m \u001b[38;5;28;01mexcept\u001b[39;00m \u001b[38;5;167;01mZeroDivisionError\u001b[39;00m:\n\u001b[1;32m      4\u001b[0m     \u001b[38;5;28mprint\u001b[39m(\u001b[38;5;124m\"\u001b[39m\u001b[38;5;124mError: Cannot divide by zero.\u001b[39m\u001b[38;5;124m\"\u001b[39m)\n",
      "\u001b[0;31mZeroDivisionError\u001b[0m: division by zero"
     ]
    }
   ],
   "source": [
    "try:\n",
    "    x = 1 / 0\n",
    "except ZeroDivisionError:\n",
    "    print(\"Error: Cannot divide by zero.\")\n",
    "    \n",
    "    raise\n"
   ]
  },
  {
   "cell_type": "markdown",
   "id": "e69b22bb-e305-44ac-be65-4ffd6eb22abd",
   "metadata": {},
   "source": [
    "Question 5"
   ]
  },
  {
   "cell_type": "markdown",
   "id": "c7548566-7695-494f-9be2-727ee801875d",
   "metadata": {},
   "source": [
    " coustom exception  is a user-defined exceptions that can be raised in response to specific error conditions in your code."
   ]
  },
  {
   "cell_type": "code",
   "execution_count": 19,
   "id": "b5661d88-10b4-453c-98fe-af1f65f2a54b",
   "metadata": {},
   "outputs": [],
   "source": [
    "class  NegativeNumberError(Exception):\n",
    "    def __init__(self , number):\n",
    "        self.number = number\n",
    "        \n",
    "\n",
    "\n",
    "    "
   ]
  },
  {
   "cell_type": "code",
   "execution_count": 31,
   "id": "1dfdf8e0-57f9-4212-80cd-c17fe5e7d67a",
   "metadata": {},
   "outputs": [],
   "source": [
    "import math"
   ]
  },
  {
   "cell_type": "code",
   "execution_count": 36,
   "id": "e86e6caf-a59d-4087-b42c-01e107e392b1",
   "metadata": {},
   "outputs": [],
   "source": [
    "def calculatesquare(number):\n",
    "    if number <0 :\n",
    "        raise NegativeNumberError(number)\n",
    "        \n",
    "    return math.sqrt(number)   "
   ]
  },
  {
   "cell_type": "code",
   "execution_count": 37,
   "id": "7a934d71-d883-473a-845d-3309d8fc6d06",
   "metadata": {},
   "outputs": [
    {
     "name": "stdin",
     "output_type": "stream",
     "text": [
      "enter the number 9\n"
     ]
    },
    {
     "data": {
      "text/plain": [
       "3.0"
      ]
     },
     "execution_count": 37,
     "metadata": {},
     "output_type": "execute_result"
    }
   ],
   "source": [
    "num = int(input(\"enter the number\"))\n",
    "\n",
    "calculatesquare(num)"
   ]
  },
  {
   "cell_type": "code",
   "execution_count": 38,
   "id": "752628cc-7b0b-474d-a159-c9f851065784",
   "metadata": {},
   "outputs": [],
   "source": [
    "class Negativenumber(Exception):\n",
    "    def __init__(self , msg):\n",
    "        self.msg = msg\n",
    "        \n",
    "        \n",
    "    "
   ]
  },
  {
   "cell_type": "code",
   "execution_count": 52,
   "id": "4d7d08b2-ecbb-4b3e-8389-799a1853d500",
   "metadata": {},
   "outputs": [],
   "source": [
    "def calculatesquare1(number):\n",
    "    if number >0 :\n",
    "        raise Negativenumber(\"the entered number is negative\")\n",
    "        \n",
    "    else :\n",
    "        return math.sqrt(number)"
   ]
  },
  {
   "cell_type": "code",
   "execution_count": 56,
   "id": "1e4c4b6e-ba9e-41dd-9145-b240c326737b",
   "metadata": {},
   "outputs": [
    {
     "name": "stdin",
     "output_type": "stream",
     "text": [
      "enter the number 5\n"
     ]
    },
    {
     "name": "stdout",
     "output_type": "stream",
     "text": [
      "<class '__main__.Negativenumber'>\n"
     ]
    }
   ],
   "source": [
    "try :\n",
    "    num = int(input(\"enter the number\"))\n",
    "    calculatesquare1(num)\n",
    "    \n",
    "except Exception as e:\n",
    "     print(Negativenumber)"
   ]
  },
  {
   "cell_type": "code",
   "execution_count": null,
   "id": "4fdc33ef-f147-45d4-a272-d058271e53a9",
   "metadata": {},
   "outputs": [],
   "source": []
  }
 ],
 "metadata": {
  "kernelspec": {
   "display_name": "Python 3 (ipykernel)",
   "language": "python",
   "name": "python3"
  },
  "language_info": {
   "codemirror_mode": {
    "name": "ipython",
    "version": 3
   },
   "file_extension": ".py",
   "mimetype": "text/x-python",
   "name": "python",
   "nbconvert_exporter": "python",
   "pygments_lexer": "ipython3",
   "version": "3.10.8"
  }
 },
 "nbformat": 4,
 "nbformat_minor": 5
}
