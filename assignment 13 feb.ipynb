{
 "cells": [
  {
   "cell_type": "markdown",
   "id": "d1fb644f-fa79-4c86-92d4-d866e74b2b7d",
   "metadata": {},
   "source": [
    "Question 1"
   ]
  },
  {
   "cell_type": "markdown",
   "id": "70c69b90-1053-4e31-8f84-5eda64c8e036",
   "metadata": {},
   "source": [
    "make sure it's compatible with the existing exception handling mechanism, inherits standard attributes and methods, and follows the standard hierarchy of built-in exceptions "
   ]
  },
  {
   "cell_type": "markdown",
   "id": "af38c094-af41-4b45-81ef-27757d632906",
   "metadata": {},
   "source": [
    "Question 2"
   ]
  },
  {
   "cell_type": "code",
   "execution_count": 9,
   "id": "c4dcf717-93ec-4320-a66f-f3c11624ab6c",
   "metadata": {},
   "outputs": [
    {
     "name": "stdout",
     "output_type": "stream",
     "text": [
      "division by zero\n"
     ]
    }
   ],
   "source": [
    "try: \n",
    "    10/0\n",
    "    \n",
    "except Exception as e:\n",
    "    print(e)"
   ]
  },
  {
   "cell_type": "markdown",
   "id": "a9898f8e-d656-46b4-8600-484efb191f85",
   "metadata": {},
   "source": [
    "Question 3"
   ]
  },
  {
   "cell_type": "markdown",
   "id": "480fe1ad-664d-4f8d-bc90-912addbabdb9",
   "metadata": {},
   "source": [
    "the error made in arirthmatic form is called arithmetic error \n",
    "\n",
    "it is catogrise in various error\n",
    "1. zerodivision error\n",
    "2. floating point error\n",
    "3. overflow error"
   ]
  },
  {
   "cell_type": "code",
   "execution_count": 10,
   "id": "22dc9913-6a99-42aa-9de5-f44f712a7ca3",
   "metadata": {},
   "outputs": [
    {
     "name": "stdout",
     "output_type": "stream",
     "text": [
      "division by zero\n"
     ]
    }
   ],
   "source": [
    "try :\n",
    "    a = 10\n",
    "    10/0\n",
    "except ZeroDivisionError as e:\n",
    "    print(e)"
   ]
  },
  {
   "cell_type": "code",
   "execution_count": 11,
   "id": "9f25fa14-fafc-4e2d-bf08-8f16e277926f",
   "metadata": {},
   "outputs": [
    {
     "name": "stdout",
     "output_type": "stream",
     "text": [
      "[Errno 2] No such file or directory: 'text6.txt'\n"
     ]
    }
   ],
   "source": [
    "try :\n",
    "    with open(\"text6.txt\" , 'r') as f:\n",
    "        text = f.read()\n",
    "        \n",
    "except FileNotFoundError as e:\n",
    "    print(e)"
   ]
  },
  {
   "cell_type": "markdown",
   "id": "d744b9d7-97db-4d44-903e-73e73777eaa7",
   "metadata": {},
   "source": [
    "Question 4"
   ]
  },
  {
   "cell_type": "markdown",
   "id": "3c6ee8a3-7d19-4d18-b994-f57bde06f14a",
   "metadata": {},
   "source": [
    "errors that occur when an invalid key or index is used to access a container object like a dictionary or a list"
   ]
  },
  {
   "cell_type": "code",
   "execution_count": 13,
   "id": "d25b0dbc-91cc-4998-bd14-9d4d925fc981",
   "metadata": {},
   "outputs": [
    {
     "name": "stdout",
     "output_type": "stream",
     "text": [
      "'key1'\n"
     ]
    }
   ],
   "source": [
    "try :\n",
    "    d = {\"vivek \" : \"verma\" , 1 : 2,\"hello\" : [3,4,5,6]}\n",
    "    print(d[\"key1\"])\n",
    "except KeyError as e :\n",
    "    print(e)\n"
   ]
  },
  {
   "cell_type": "code",
   "execution_count": 15,
   "id": "5f80dd80-0004-4116-9df0-524c96e6b863",
   "metadata": {},
   "outputs": [
    {
     "name": "stdout",
     "output_type": "stream",
     "text": [
      "list index out of range\n"
     ]
    }
   ],
   "source": [
    "try :\n",
    "    l = [1,2,3,4,5,6]\n",
    "    print(l[6])\n",
    "except IndexError as e:\n",
    "    print(e)"
   ]
  },
  {
   "cell_type": "markdown",
   "id": "daaeba3f-b3fe-4130-9cfb-0c8e308f17ca",
   "metadata": {},
   "source": [
    "Question 5"
   ]
  },
  {
   "cell_type": "markdown",
   "id": "016fd386-b499-4632-a94e-8eae18492de2",
   "metadata": {},
   "source": [
    "import error is occured when there is a failure of importing a module"
   ]
  },
  {
   "cell_type": "markdown",
   "id": "651982a6-6e47-42ea-a93a-d01c12f57585",
   "metadata": {},
   "source": [
    "modulenot found error occured when we try to import a module that does not exist"
   ]
  },
  {
   "cell_type": "code",
   "execution_count": null,
   "id": "028174b4-87fb-4ea5-bd4b-38ba14ff04ab",
   "metadata": {},
   "outputs": [],
   "source": [
    "Question"
   ]
  },
  {
   "cell_type": "markdown",
   "id": "b2a115d2-a634-4282-ab91-3a187725cbfb",
   "metadata": {},
   "source": [
    "1. handle a specifice exception handler that can handle the error instead of writing all \n",
    " 2. use finaly statement to close the file \n",
    " 3. always use logging function so that we can identify the error "
   ]
  }
 ],
 "metadata": {
  "kernelspec": {
   "display_name": "Python 3 (ipykernel)",
   "language": "python",
   "name": "python3"
  },
  "language_info": {
   "codemirror_mode": {
    "name": "ipython",
    "version": 3
   },
   "file_extension": ".py",
   "mimetype": "text/x-python",
   "name": "python",
   "nbconvert_exporter": "python",
   "pygments_lexer": "ipython3",
   "version": "3.10.8"
  }
 },
 "nbformat": 4,
 "nbformat_minor": 5
}
