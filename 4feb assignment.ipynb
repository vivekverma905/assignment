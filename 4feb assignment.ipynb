{
 "cells": [
  {
   "cell_type": "code",
   "execution_count": 9,
   "id": "d07c460d-daf5-4a94-aed4-04b3146609c0",
   "metadata": {},
   "outputs": [],
   "source": [
    "l = [('Sachin Tendulkar', 34357), ('Ricky Ponting', 27483),('jack kallis',25534),('Virat Kohli',24936)]"
   ]
  },
  {
   "cell_type": "code",
   "execution_count": 10,
   "id": "11af3486-c776-446d-bffb-bd025c3aa5da",
   "metadata": {},
   "outputs": [
    {
     "data": {
      "text/plain": [
       "list"
      ]
     },
     "execution_count": 10,
     "metadata": {},
     "output_type": "execute_result"
    }
   ],
   "source": [
    "type(l)"
   ]
  },
  {
   "cell_type": "code",
   "execution_count": 12,
   "id": "c75b637c-c26a-466f-95e5-f7a8257b47ac",
   "metadata": {},
   "outputs": [],
   "source": [
    "s = sorted(l ,key= lambda x :x[1])\n",
    "\n"
   ]
  },
  {
   "cell_type": "code",
   "execution_count": 13,
   "id": "66447b2c-4273-4dae-b173-9bf748c116de",
   "metadata": {},
   "outputs": [
    {
     "data": {
      "text/plain": [
       "[('Virat Kohli', 24936),\n",
       " ('jack kallis', 25534),\n",
       " ('Ricky Ponting', 27483),\n",
       " ('Sachin Tendulkar', 34357)]"
      ]
     },
     "execution_count": 13,
     "metadata": {},
     "output_type": "execute_result"
    }
   ],
   "source": [
    "s"
   ]
  },
  {
   "cell_type": "markdown",
   "id": "8f7b0d05-fb7a-44f9-b7af-6c4a34a8aba8",
   "metadata": {},
   "source": [
    "Question 2"
   ]
  },
  {
   "cell_type": "code",
   "execution_count": 20,
   "id": "98cdab75-730f-46f5-83ab-20bc4b74c6fb",
   "metadata": {},
   "outputs": [],
   "source": [
    " l1 = [1,2,3,4,5,6,7,8,9,10]"
   ]
  },
  {
   "cell_type": "code",
   "execution_count": 19,
   "id": "a1cce23c-0f50-408e-8526-f191ac9c70c3",
   "metadata": {},
   "outputs": [
    {
     "data": {
      "text/plain": [
       "[1, 4, 9, 16, 25, 36, 49, 64, 81, 100]"
      ]
     },
     "execution_count": 19,
     "metadata": {},
     "output_type": "execute_result"
    }
   ],
   "source": [
    "list(map( lambda x : x**2,l1))"
   ]
  },
  {
   "cell_type": "markdown",
   "id": "d1fdaa28-0ac5-4115-96ba-322c2ac30d9f",
   "metadata": {},
   "source": [
    "Question 3"
   ]
  },
  {
   "cell_type": "code",
   "execution_count": 36,
   "id": "623282ef-aa80-4569-afe9-654587cdd1b4",
   "metadata": {},
   "outputs": [
    {
     "data": {
      "text/plain": [
       "['1', '2', '3', '4', '5', '6', '7', '8', '9', '10']"
      ]
     },
     "execution_count": 36,
     "metadata": {},
     "output_type": "execute_result"
    }
   ],
   "source": [
    "list(map(lambda x : str(x) ,l1))"
   ]
  },
  {
   "cell_type": "markdown",
   "id": "9516bb27-e23c-4653-97f9-13c112a5828c",
   "metadata": {},
   "source": [
    "Question 4"
   ]
  },
  {
   "cell_type": "code",
   "execution_count": 43,
   "id": "0363aafd-bb98-42fb-a587-578e3a647212",
   "metadata": {},
   "outputs": [],
   "source": [
    "from functools import reduce \n",
    "from operator import mul"
   ]
  },
  {
   "cell_type": "code",
   "execution_count": 44,
   "id": "7c09b712-8275-479f-b14b-44befe2ededf",
   "metadata": {},
   "outputs": [],
   "source": [
    "l3 = range (1,26)"
   ]
  },
  {
   "cell_type": "code",
   "execution_count": 45,
   "id": "f5773463-7c02-49f5-b7eb-4a47e4fc4cb0",
   "metadata": {},
   "outputs": [
    {
     "data": {
      "text/plain": [
       "range(1, 26)"
      ]
     },
     "execution_count": 45,
     "metadata": {},
     "output_type": "execute_result"
    }
   ],
   "source": [
    "l3"
   ]
  },
  {
   "cell_type": "code",
   "execution_count": 51,
   "id": "553e25d0-4b71-4cee-9148-2c161dd2bb4a",
   "metadata": {},
   "outputs": [],
   "source": [
    "p = reduce(mul,l3)"
   ]
  },
  {
   "cell_type": "code",
   "execution_count": 47,
   "id": "6657c0a1-6981-4e80-8e74-198519b0faa1",
   "metadata": {},
   "outputs": [
    {
     "data": {
      "text/plain": [
       "15511210043330985984000000"
      ]
     },
     "execution_count": 47,
     "metadata": {},
     "output_type": "execute_result"
    }
   ],
   "source": [
    "p"
   ]
  },
  {
   "cell_type": "markdown",
   "id": "0fb1a438-b534-4429-bc1f-3968a1a090ef",
   "metadata": {},
   "source": [
    "Question 5"
   ]
  },
  {
   "cell_type": "code",
   "execution_count": 52,
   "id": "0f0132f3-0b2e-4ae6-bed3-1213e93afbd4",
   "metadata": {},
   "outputs": [],
   "source": [
    "l4 = [2,3,6,9,27,60,90,120,55,46]"
   ]
  },
  {
   "cell_type": "code",
   "execution_count": 53,
   "id": "b4b67578-0c97-4c88-bebe-2f83d73341ad",
   "metadata": {},
   "outputs": [
    {
     "data": {
      "text/plain": [
       "[2, 3, 6, 9, 27, 60, 90, 120, 46]"
      ]
     },
     "execution_count": 53,
     "metadata": {},
     "output_type": "execute_result"
    }
   ],
   "source": [
    "list(filter(lambda x: x%2==0 or x%3==0,l4))"
   ]
  },
  {
   "cell_type": "markdown",
   "id": "4bb2eedb-c6c8-40c6-ab14-4f39148ca3f5",
   "metadata": {},
   "source": [
    "Question 6"
   ]
  },
  {
   "cell_type": "code",
   "execution_count": 54,
   "id": "c4050411-37a7-44aa-93d4-00614c624905",
   "metadata": {},
   "outputs": [],
   "source": [
    "l5 = ['python' , 'php' ,'aba','radar','level']"
   ]
  },
  {
   "cell_type": "code",
   "execution_count": 58,
   "id": "31861ef9-14db-49ba-91f8-703ef6dfd5e7",
   "metadata": {},
   "outputs": [
    {
     "ename": "TypeError",
     "evalue": "filter expected 2 arguments, got 1",
     "output_type": "error",
     "traceback": [
      "\u001b[0;31m---------------------------------------------------------------------------\u001b[0m",
      "\u001b[0;31mTypeError\u001b[0m                                 Traceback (most recent call last)",
      "Cell \u001b[0;32mIn[58], line 1\u001b[0m\n\u001b[0;32m----> 1\u001b[0m \u001b[38;5;28mlist\u001b[39m(\u001b[38;5;28;43mfilter\u001b[39;49m\u001b[43m(\u001b[49m\u001b[38;5;28;43;01mlambda\u001b[39;49;00m\u001b[43m \u001b[49m\u001b[43mx\u001b[49m\u001b[43m \u001b[49m\u001b[43m:\u001b[49m\u001b[43m \u001b[49m\u001b[43mx\u001b[49m\u001b[43m \u001b[49m\u001b[38;5;28;43;01mif\u001b[39;49;00m\u001b[43m \u001b[49m\u001b[38;5;28;43mlen\u001b[39;49m\u001b[43m(\u001b[49m\u001b[43mx\u001b[49m\u001b[43m[\u001b[49m\u001b[38;5;241;43m0\u001b[39;49m\u001b[43m]\u001b[49m\u001b[43m)\u001b[49m\u001b[38;5;241;43m==\u001b[39;49m\u001b[38;5;28;43mlen\u001b[39;49m\u001b[43m(\u001b[49m\u001b[43mx\u001b[49m\u001b[43m[\u001b[49m\u001b[43mn\u001b[49m\u001b[38;5;241;43m-\u001b[39;49m\u001b[38;5;241;43m1\u001b[39;49m\u001b[43m]\u001b[49m\u001b[43m \u001b[49m\u001b[43m)\u001b[49m\u001b[43m \u001b[49m\u001b[38;5;28;43;01melse\u001b[39;49;00m\u001b[43m \u001b[49m\u001b[43mnotpaldeom\u001b[49m\u001b[43m)\u001b[49m)\n",
      "\u001b[0;31mTypeError\u001b[0m: filter expected 2 arguments, got 1"
     ]
    }
   ],
   "source": [
    "list(filter(lambda x))"
   ]
  },
  {
   "cell_type": "code",
   "execution_count": null,
   "id": "8d9f17db-a398-4362-98a7-b710ce153f2a",
   "metadata": {},
   "outputs": [],
   "source": []
  }
 ],
 "metadata": {
  "kernelspec": {
   "display_name": "Python 3 (ipykernel)",
   "language": "python",
   "name": "python3"
  },
  "language_info": {
   "codemirror_mode": {
    "name": "ipython",
    "version": 3
   },
   "file_extension": ".py",
   "mimetype": "text/x-python",
   "name": "python",
   "nbconvert_exporter": "python",
   "pygments_lexer": "ipython3",
   "version": "3.10.8"
  }
 },
 "nbformat": 4,
 "nbformat_minor": 5
}
