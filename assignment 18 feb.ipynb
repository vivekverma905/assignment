{
 "cells": [
  {
   "cell_type": "markdown",
   "id": "68d2a815-41df-4847-826f-7d306595e8d6",
   "metadata": {},
   "source": [
    "Question 1"
   ]
  },
  {
   "cell_type": "markdown",
   "id": "d79b8343-5e17-4301-9d1a-111336cd16a1",
   "metadata": {},
   "source": [
    "API stands for Application Programming Interface. It is a set of protocols, tools, and routines that allow software applications to communicate with each other. APIs enable different software systems to interact with each other and exchange data in a standardized way, without requiring the user to have detailed knowledge of the underlying systems"
   ]
  },
  {
   "cell_type": "markdown",
   "id": "e41e935b-d9a5-4491-b667-4364ec147449",
   "metadata": {},
   "source": [
    "Imagine you want to book a flight online. When you visit the website of an airline, you will likely see a search form where you can enter your travel details. When you submit the form, the website sends a request to the airline's server to check for available flights that match your criteria.\n",
    "\n",
    "The server then uses an API to access the flight reservation system and retrieve the necessary information about available flights, prices, and schedules. The API provides a standardized way for the website and the reservation system to exchange data.\n",
    "\n",
    "Once the server has the information, it sends it back to the website, which displays it in a user-friendly format. You can then select your preferred flight and make the booking."
   ]
  },
  {
   "cell_type": "markdown",
   "id": "2882a001-6a85-4956-97d5-419cf42eb3c3",
   "metadata": {},
   "source": [
    "Question 2"
   ]
  },
  {
   "cell_type": "markdown",
   "id": "eef10b5e-2697-43f3-97c0-9741bea04d11",
   "metadata": {},
   "source": [
    "advantage of API \n",
    "1 . Integration\n",
    "2. Scalabilit\n",
    "3. Customization\n",
    "\n",
    "disadvantage of API\n",
    "\n",
    "1. complixety \n",
    "2. cost \n",
    "3 . depencency \n",
    "4. Compatibility:\n",
    "5 . security"
   ]
  },
  {
   "cell_type": "markdown",
   "id": "3e955280-53f0-41eb-aaf9-07eb4df395b8",
   "metadata": {},
   "source": [
    "Question 3"
   ]
  },
  {
   "cell_type": "markdown",
   "id": "62b05776-83a5-4461-83bd-a2272c4f9e07",
   "metadata": {},
   "source": [
    "API that allows communication and data exchange between web-based applications or services. Web APIs are designed to work over the internet and are typically based on REST (Representational State Transfer) architecture"
   ]
  },
  {
   "cell_type": "markdown",
   "id": "5ef824c6-81b2-4e1e-8d4d-cc9e61ade7e9",
   "metadata": {},
   "source": [
    "API that is designed to be used over the web. It enables web-based applications to communicate with each other and exchange data. Web APIs use web-based protocols like HTTP to make requests and receive responses, and they typically use web-friendly formats like JSON or XML to represent data.\n",
    "\n",
    "So, while all web APIs are APIs, not all APIs are web APIs. APIs can be designed for various purposes, such as operating system APIs, library APIs, database APIs, etc. Web APIs, specifically, are used for building web applications and services that can be accessed by other web applications or mobile devices.\n",
    "\n",
    "\n",
    "\n"
   ]
  },
  {
   "cell_type": "markdown",
   "id": "ae21263c-64aa-48c1-a4d3-1448e0f2905f",
   "metadata": {},
   "source": [
    "Question 4"
   ]
  },
  {
   "cell_type": "markdown",
   "id": "746ea549-291a-407f-a5f4-e7774d263439",
   "metadata": {},
   "source": [
    "REST (Representational State Transfer) and SOAP (Simple Object Access Protocol) are two different architectural styles used to design web services.\n",
    "\n",
    "REST is an architectural style that is based on the HTTP protocol and is often used in web services that require high scalability and performance. RESTful web services are built around resources that are uniquely identified by a URI (Uniform Resource Identifier). RESTful APIs typically use HTTP verbs (GET, POST, PUT, DELETE) to manipulate the resources and use HTTP response codes to indicate the status of the operation.\n",
    "\n",
    "On the other hand, SOAP is an XML-based messaging protocol that is used to exchange structured information between distributed applications. SOAP web services use XML messages to transfer data between the client and server. SOAP uses a specific message format, called a SOAP envelope, which contains a message header and a message body"
   ]
  },
  {
   "cell_type": "markdown",
   "id": "1f97a038-a2c7-4685-9ece-afc3717efd8c",
   "metadata": {},
   "source": [
    "Question 5"
   ]
  },
  {
   "cell_type": "markdown",
   "id": "2b2744d9-caaf-4f67-86ab-098850dd7b79",
   "metadata": {},
   "source": []
  }
 ],
 "metadata": {
  "kernelspec": {
   "display_name": "Python 3 (ipykernel)",
   "language": "python",
   "name": "python3"
  },
  "language_info": {
   "codemirror_mode": {
    "name": "ipython",
    "version": 3
   },
   "file_extension": ".py",
   "mimetype": "text/x-python",
   "name": "python",
   "nbconvert_exporter": "python",
   "pygments_lexer": "ipython3",
   "version": "3.10.8"
  }
 },
 "nbformat": 4,
 "nbformat_minor": 5
}
