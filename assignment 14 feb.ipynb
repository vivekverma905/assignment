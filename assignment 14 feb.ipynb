{
 "cells": [
  {
   "cell_type": "markdown",
   "id": "8b158bc1-56d5-4863-b583-cd0184c4645e",
   "metadata": {},
   "source": [
    "Question 1"
   ]
  },
  {
   "cell_type": "markdown",
   "id": "b82261dd-2ccf-4b7c-83f6-874185679cb7",
   "metadata": {},
   "source": [
    "the ability of a program to execute multiple threads or flows of control concurrently it is  used to improve the performance and responsiveness of a program threading is the module used to handle threads"
   ]
  },
  {
   "cell_type": "markdown",
   "id": "977ce04d-1566-44b2-b589-d97e820b7d4f",
   "metadata": {},
   "source": [
    "Question 2"
   ]
  },
  {
   "cell_type": "markdown",
   "id": "c931ba85-7811-4254-bb0f-7314a3cafb28",
   "metadata": {},
   "source": [
    "it is used to create and manage a thread \n",
    "\n",
    " 1. an active thread is a thread that has been started but has not yet completed\n",
    " \n",
    " 2. this can be useful if you need to manipulate the current thread, for example, to set a thread-specific attribute\n",
    " \n",
    " 3. this method returns a list of all Thread objects that are currently active in the current Python interpreter"
   ]
  },
  {
   "cell_type": "markdown",
   "id": "07323d75-e3e9-4f2e-9233-17497678b80c",
   "metadata": {},
   "source": [
    "Question 3 "
   ]
  },
  {
   "cell_type": "markdown",
   "id": "9d09ea5a-76fa-4e1f-a0e7-286da1bf5cd6",
   "metadata": {},
   "source": [
    "1.  This method is called when a new thread is started using the start method\n",
    "2. this method starts a new thread by calling the run() method in a new thread of control when a new thread is started, the run() method is executed in the new thread\n",
    "3. this method blocks the calling thread until the thread on which it is called completes It is useful for coordinating the execution of multiple threads\n",
    "4. this method returns a boolean value indicating whether the thread is currently executing"
   ]
  },
  {
   "cell_type": "markdown",
   "id": "7e871349-010c-48d6-b4b3-f413956f42d1",
   "metadata": {},
   "source": [
    "Question 4"
   ]
  },
  {
   "cell_type": "code",
   "execution_count": 1,
   "id": "34e278d9-eef4-4f2b-bedc-31d995a710f6",
   "metadata": {},
   "outputs": [],
   "source": [
    "import threading"
   ]
  },
  {
   "cell_type": "markdown",
   "id": "c1048a44-b09f-4226-a681-7d31adf2787e",
   "metadata": {},
   "source": [
    "def square():\n",
    "    for i in range(10):\n",
    "        result = i**2\n",
    "        print(result)\n",
    "        "
   ]
  },
  {
   "cell_type": "code",
   "execution_count": 13,
   "id": "086115c7-4ece-435e-b958-888d32e3fcb6",
   "metadata": {},
   "outputs": [],
   "source": [
    "def cube():\n",
    "    for i in range(10):\n",
    "        res = i**3\n",
    "        print(res)"
   ]
  },
  {
   "cell_type": "code",
   "execution_count": 27,
   "id": "61e109af-cb7b-443f-a60a-6c1ab9843cf4",
   "metadata": {},
   "outputs": [],
   "source": [
    "thread1 = threading.Thread(target = square ) \n",
    "thread2 = threading.Thread(target = cube )\n"
   ]
  },
  {
   "cell_type": "code",
   "execution_count": 28,
   "id": "d574e552-6773-43a5-9402-75e4bbd54845",
   "metadata": {},
   "outputs": [
    {
     "name": "stdout",
     "output_type": "stream",
     "text": [
      "0\n",
      "1\n",
      "4\n",
      "9\n",
      "16\n",
      "25\n",
      "36\n",
      "49\n",
      "64\n",
      "81\n",
      "0\n",
      "1\n",
      "8\n",
      "27\n",
      "64\n",
      "125\n",
      "216\n",
      "343\n",
      "512\n",
      "729\n"
     ]
    }
   ],
   "source": [
    "thread1.start()\n",
    "thread2.start()\n",
    "\n",
    "thread1.join()\n",
    "thread2.join()"
   ]
  },
  {
   "cell_type": "markdown",
   "id": "db038765-c835-4c9f-b237-9ce7580c4f2e",
   "metadata": {},
   "source": [
    "Question 5"
   ]
  },
  {
   "cell_type": "markdown",
   "id": "23a5bf24-4c95-47da-85b5-493a0cd76d22",
   "metadata": {},
   "source": [
    "advantage\n",
    "1. improved performance\n",
    "2. increase responsiveness\n",
    "3. spesifice program design\n",
    "\n",
    "\n",
    "disadvantage\n",
    "1. complixity \n",
    "2. increase memory utility\n",
    "3. debugging difficult\n"
   ]
  },
  {
   "cell_type": "markdown",
   "id": "471e1e85-8386-4598-878e-8ad29a1b0198",
   "metadata": {},
   "source": [
    "Question 6"
   ]
  },
  {
   "cell_type": "markdown",
   "id": "03a3db43-f8ba-4e5c-8f4a-96f1e1382db7",
   "metadata": {},
   "source": [
    "deadlock is occured when a program is being prossing in between system request another program to perform a task the then the processor will stop prossing the first request of the and start working on the current request"
   ]
  },
  {
   "cell_type": "code",
   "execution_count": null,
   "id": "324c2d1a-e980-4246-9879-b2a348974d6b",
   "metadata": {},
   "outputs": [],
   "source": [
    "A race condition is a type of concurrency bug that occurs when two or more threads or processes access a shared resource or data structure in an unpredictable or unexpected way, leading to incorrect behavior or program crashe"
   ]
  }
 ],
 "metadata": {
  "kernelspec": {
   "display_name": "Python 3 (ipykernel)",
   "language": "python",
   "name": "python3"
  },
  "language_info": {
   "codemirror_mode": {
    "name": "ipython",
    "version": 3
   },
   "file_extension": ".py",
   "mimetype": "text/x-python",
   "name": "python",
   "nbconvert_exporter": "python",
   "pygments_lexer": "ipython3",
   "version": "3.10.8"
  }
 },
 "nbformat": 4,
 "nbformat_minor": 5
}
