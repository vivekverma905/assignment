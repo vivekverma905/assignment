{
 "cells": [
  {
   "cell_type": "code",
   "execution_count": 5,
   "id": "facc745d-8e1a-4b40-9333-175527c88c3c",
   "metadata": {},
   "outputs": [
    {
     "name": "stdin",
     "output_type": "stream",
     "text": [
      "enter the marks you have got 50\n"
     ]
    },
    {
     "name": "stdout",
     "output_type": "stream",
     "text": [
      "your grade is D\n"
     ]
    }
   ],
   "source": [
    "##question 1\n",
    "marks = int(input('enter the marks you have got'))\n",
    "if marks >90:\n",
    "    print('your grade is A')\n",
    "elif marks >80 and marks <= 90:\n",
    "    print('your grade is B')\n",
    "elif marks >=60 and marks <=80:\n",
    "    print('your grade is C')\n",
    "else :\n",
    "    print('your grade is D')"
   ]
  },
  {
   "cell_type": "code",
   "execution_count": 10,
   "id": "02784643-2c35-4f5d-bbb1-ac5cb36339ba",
   "metadata": {},
   "outputs": [
    {
     "name": "stdin",
     "output_type": "stream",
     "text": [
      "enter the cost price of the bike 50000\n"
     ]
    },
    {
     "name": "stdout",
     "output_type": "stream",
     "text": [
      "5 % tax \n"
     ]
    }
   ],
   "source": [
    "## question 2\n",
    "priceofbike = int(input('enter the cost price of the bike'))\n",
    "if priceofbike >100000:\n",
    "    print('15 % tax '  )\n",
    "elif priceofbike >50000 and priceofbike <= 100000:\n",
    "    print('10 %  tax ')\n",
    "else:\n",
    "    print('5 % tax ')\n",
    "    "
   ]
  },
  {
   "cell_type": "code",
   "execution_count": 21,
   "id": "2b3e04d8-819d-475c-8d9e-081b785e15a2",
   "metadata": {},
   "outputs": [
    {
     "name": "stdin",
     "output_type": "stream",
     "text": [
      "enter the city name jaipur\n"
     ]
    },
    {
     "name": "stdout",
     "output_type": "stream",
     "text": [
      "jal mahal\n"
     ]
    }
   ],
   "source": [
    "## Question 3\n",
    "city = str(input('enter the city name' ))\n",
    "if city == 'delhi':\n",
    "    print('red fort')\n",
    "elif city == 'agra':\n",
    "    print('taj mahal')\n",
    "elif city == 'jaipur':\n",
    "    print('jal mahal')\n",
    "    \n",
    "else :\n",
    "    print('try again')"
   ]
  },
  {
   "cell_type": "code",
   "execution_count": 30,
   "id": "1f4ee2a4-0460-4377-a147-34e86ef0dffb",
   "metadata": {},
   "outputs": [
    {
     "name": "stdin",
     "output_type": "stream",
     "text": [
      "enter the number  27\n"
     ]
    },
    {
     "name": "stdout",
     "output_type": "stream",
     "text": [
      "1\n"
     ]
    }
   ],
   "source": [
    "## question 4\n",
    "num = int(input('enter the number '))\n",
    "count = 0\n",
    "while num>10:\n",
    "    num = num/3\n",
    "    count= count + 1\n",
    "    print(count)\n",
    "    \n",
    "    "
   ]
  },
  {
   "cell_type": "code",
   "execution_count": 31,
   "id": "5d2da555-6efb-46ff-9ccf-02cb227bb1dd",
   "metadata": {},
   "outputs": [
    {
     "name": "stdout",
     "output_type": "stream",
     "text": [
      "1\n",
      "2\n",
      "3\n",
      "4\n",
      "5\n",
      "6\n",
      "7\n",
      "8\n",
      "9\n"
     ]
    }
   ],
   "source": [
    "##question 5\n",
    "## soultion 5 .  we use loop when we require a variable result again and again then we use loop in python\n",
    "\n",
    "for i in range(1,10):\n",
    "    print(i)\n",
    "    "
   ]
  },
  {
   "cell_type": "code",
   "execution_count": 32,
   "id": "0d26cf48-a980-4b63-96cd-8bf1ffa47537",
   "metadata": {},
   "outputs": [
    {
     "name": "stdout",
     "output_type": "stream",
     "text": [
      "*\n",
      "**\n",
      "***\n",
      "****\n",
      "*****\n"
     ]
    }
   ],
   "source": [
    "## question 6\n",
    "n = 5\n",
    "i = 1\n",
    "while i <= n:\n",
    "    j = 1\n",
    "    while j <= i:\n",
    "        print(\"*\", end=\"\")\n",
    "        j += 1\n",
    "    print()\n",
    "    i += 1\n"
   ]
  },
  {
   "cell_type": "code",
   "execution_count": null,
   "id": "cbf93a42-a134-4f53-9d78-369f45532ec1",
   "metadata": {},
   "outputs": [],
   "source": [
    "n = 10\n",
    "while n>1:\n",
    "    prin\n"
   ]
  }
 ],
 "metadata": {
  "kernelspec": {
   "display_name": "Python 3 (ipykernel)",
   "language": "python",
   "name": "python3"
  },
  "language_info": {
   "codemirror_mode": {
    "name": "ipython",
    "version": 3
   },
   "file_extension": ".py",
   "mimetype": "text/x-python",
   "name": "python",
   "nbconvert_exporter": "python",
   "pygments_lexer": "ipython3",
   "version": "3.10.8"
  }
 },
 "nbformat": 4,
 "nbformat_minor": 5
}
