{
 "cells": [
  {
   "cell_type": "code",
   "execution_count": 1,
   "id": "ea8fd42a-b0ad-413a-af43-4627da073c48",
   "metadata": {},
   "outputs": [],
   "source": [
    "#Question 1\n",
    "class vehicle :\n",
    "    def __init__(self, name_of_vehicle,max_speed, average_of_vehicle):\n",
    "        self.__name_of_vehicle = name_of_vehicle\n",
    "        self.__max_speed = max_speed\n",
    "        self.__average_of_vehicle = average_of_vehicle\n",
    "    "
   ]
  },
  {
   "cell_type": "markdown",
   "id": "e520178f-0f1e-48b5-a36b-dbb2f8deccbd",
   "metadata": {},
   "source": [
    "Question 2"
   ]
  },
  {
   "cell_type": "code",
   "execution_count": 4,
   "id": "b68b1689-1350-4e53-aa14-63a22f17d75a",
   "metadata": {},
   "outputs": [],
   "source": [
    "class car(vehicle):\n",
    "    def seating_capacity(self, capacity):\n",
    "        return \" the name of the vehicle and its seating capacity\""
   ]
  },
  {
   "cell_type": "markdown",
   "id": "34c069e5-b380-437c-85db-9b67a08e64a9",
   "metadata": {},
   "source": [
    "Question 3"
   ]
  },
  {
   "cell_type": "markdown",
   "id": "eba3bd3d-24f3-44f6-a2ec-a32e312a07b9",
   "metadata": {},
   "source": [
    "multiple inheritance :\n",
    "                        when different child class inherit the character of the parent class "
   ]
  },
  {
   "cell_type": "code",
   "execution_count": 6,
   "id": "d9e582f7-975c-43fa-ba76-a0cc74252eeb",
   "metadata": {},
   "outputs": [],
   "source": [
    "class Engine:\n",
    "    def start(self):\n",
    "        print(\"Engine started.\")"
   ]
  },
  {
   "cell_type": "code",
   "execution_count": 7,
   "id": "d8be1fc1-48ea-49b1-825d-d6acf74b7d1f",
   "metadata": {},
   "outputs": [],
   "source": [
    "class FuelSystem:\n",
    "    def fill_fuel(self):\n",
    "        print(\"Fuel tank filled.\")\n",
    "\n"
   ]
  },
  {
   "cell_type": "code",
   "execution_count": 8,
   "id": "65c286db-efa7-4037-94ff-b8a0c88f5590",
   "metadata": {},
   "outputs": [],
   "source": [
    "class Car(Engine, FuelSystem):\n",
    "    def drive(self):\n",
    "        self.start()\n",
    "        print(\"Driving the car.\")\n",
    "        self.fill_fuel()\n",
    "\n"
   ]
  },
  {
   "cell_type": "code",
   "execution_count": 9,
   "id": "a1744d0d-30dc-41fb-b276-b771a71aa8a4",
   "metadata": {},
   "outputs": [],
   "source": [
    "car = Car()\n"
   ]
  },
  {
   "cell_type": "code",
   "execution_count": 10,
   "id": "33159af4-d4f5-4054-9ebe-754e770d89de",
   "metadata": {},
   "outputs": [
    {
     "name": "stdout",
     "output_type": "stream",
     "text": [
      "Engine started.\n",
      "Driving the car.\n",
      "Fuel tank filled.\n"
     ]
    }
   ],
   "source": [
    "car.drive()"
   ]
  },
  {
   "cell_type": "markdown",
   "id": "61e9b298-d4ef-4c71-9ab0-84f9e793da41",
   "metadata": {},
   "source": [
    "Question 4"
   ]
  },
  {
   "cell_type": "markdown",
   "id": "9cfaf634-668b-4f3d-b9b4-296434f63789",
   "metadata": {},
   "source": [
    " Getter methods are used to access the value of an attribute, while setter methods are used to set the value of an attribute."
   ]
  },
  {
   "cell_type": "code",
   "execution_count": 12,
   "id": "bd0ac6c3-c09a-40cf-a11b-bd6b016840fd",
   "metadata": {},
   "outputs": [],
   "source": [
    "class Person:\n",
    "    def __init__(self, name):\n",
    "        self._name = name\n"
   ]
  },
  {
   "cell_type": "code",
   "execution_count": 13,
   "id": "c2dc5155-2fcd-49a6-8be3-ae156257a4e4",
   "metadata": {},
   "outputs": [],
   "source": [
    "   def get_name(self):\n",
    "        return self._name\n"
   ]
  },
  {
   "cell_type": "code",
   "execution_count": 15,
   "id": "2a458733-afb6-48de-8ce9-ea60179e63bb",
   "metadata": {},
   "outputs": [],
   "source": [
    "    def set_name(self, name):\n",
    "        self._name = name\n"
   ]
  },
  {
   "cell_type": "code",
   "execution_count": 16,
   "id": "79050c0c-2bb7-43dd-aaa0-efbfc9c9779d",
   "metadata": {},
   "outputs": [],
   "source": [
    "   name = property(get_name, set_name)\n"
   ]
  },
  {
   "cell_type": "code",
   "execution_count": 19,
   "id": "c93c6c57-868a-4aa0-aedd-2f8f1375b5d3",
   "metadata": {},
   "outputs": [],
   "source": [
    "person = Person(\"John\")"
   ]
  },
  {
   "cell_type": "code",
   "execution_count": 20,
   "id": "035ddbb7-b8a2-4c76-a340-20721251fc5f",
   "metadata": {},
   "outputs": [
    {
     "name": "stdout",
     "output_type": "stream",
     "text": [
      "Jane\n"
     ]
    }
   ],
   "source": [
    "person.name = \"Jane\"\n",
    "print(person.name) "
   ]
  },
  {
   "cell_type": "code",
   "execution_count": 21,
   "id": "2d1e5060-deb3-4eba-933d-da7236bde9c0",
   "metadata": {},
   "outputs": [
    {
     "name": "stdout",
     "output_type": "stream",
     "text": [
      "Jane\n"
     ]
    }
   ],
   "source": [
    "print(person.name) "
   ]
  },
  {
   "cell_type": "markdown",
   "id": "3b9a15d6-2be3-49da-8649-4c35cde8c040",
   "metadata": {},
   "source": [
    "Question 5"
   ]
  },
  {
   "cell_type": "markdown",
   "id": "592acd79-0cc8-4473-991c-f2ad5bbf4751",
   "metadata": {},
   "source": [
    " it allows a subclass to provide a new implementation for a method that is already defined in its parent class"
   ]
  },
  {
   "cell_type": "code",
   "execution_count": 22,
   "id": "ed0e0600-af08-4200-83a0-a107d91f88ed",
   "metadata": {},
   "outputs": [],
   "source": [
    "class Animal:\n",
    "    def make_sound(self):\n",
    "        print(\"The animal makes a sound.\")"
   ]
  },
  {
   "cell_type": "code",
   "execution_count": 23,
   "id": "cd542022-d02f-4bdc-bfee-f450680793fa",
   "metadata": {},
   "outputs": [],
   "source": [
    "class Dog(Animal):\n",
    "    def make_sound(self):\n",
    "        print(\"The dog barks.\")\n"
   ]
  },
  {
   "cell_type": "code",
   "execution_count": 24,
   "id": "727ca36c-e7b6-46cf-8262-796cefb08f45",
   "metadata": {},
   "outputs": [],
   "source": [
    "animal = Animal()\n",
    "\n"
   ]
  },
  {
   "cell_type": "code",
   "execution_count": null,
   "id": "a24cdbcf-75c0-46f1-9a8a-7687eaaafb79",
   "metadata": {},
   "outputs": [],
   "source": [
    "animal.make_sound() # Output: The animal makes a sound.\n",
    "\n"
   ]
  }
 ],
 "metadata": {
  "kernelspec": {
   "display_name": "Python 3 (ipykernel)",
   "language": "python",
   "name": "python3"
  },
  "language_info": {
   "codemirror_mode": {
    "name": "ipython",
    "version": 3
   },
   "file_extension": ".py",
   "mimetype": "text/x-python",
   "name": "python",
   "nbconvert_exporter": "python",
   "pygments_lexer": "ipython3",
   "version": "3.10.8"
  }
 },
 "nbformat": 4,
 "nbformat_minor": 5
}
